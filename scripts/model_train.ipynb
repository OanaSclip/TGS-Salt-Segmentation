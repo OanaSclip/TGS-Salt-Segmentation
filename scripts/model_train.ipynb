{
 "cells": [
  {
   "cell_type": "code",
   "execution_count": 1,
   "metadata": {},
   "outputs": [],
   "source": [
    "import numpy as np\n",
    "from keras.models import load_model"
   ]
  },
  {
   "cell_type": "code",
   "execution_count": 3,
   "metadata": {},
   "outputs": [],
   "source": [
    "train_img_path = '../data/train/'\n",
    "model_name = 'ksamxamx.h5'\n",
    "model_path = '../models/' + model_name\n",
    "x_train_path = train_img_path + 'x_train.npy'\n",
    "y_train_path = train_img_path + 'y_train.npy'\n",
    "x_test_path = train_img_path + 'x_test.npy'\n",
    "y_test_path = train_img_path + 'y_test.npy'\n",
    "\n",
    "\n",
    "x_train = (train_img_path + x_train_path)\n",
    "y_train= (train_img_path + y_train_path)\n",
    "x_test = (train_img_path + x_test_path)\n",
    "y_test = (train_img_path + y_test_path)"
   ]
  },
  {
   "cell_type": "code",
   "execution_count": null,
   "metadata": {},
   "outputs": [],
   "source": []
  },
  {
   "cell_type": "code",
   "execution_count": null,
   "metadata": {},
   "outputs": [],
   "source": [
    "def make_image_gen(x_train, y_train, batch_size=32):\n",
    "    all_batches_index = np.arange(0, x_train.shape[0])\n",
    "    out_images = []\n",
    "    out_masks = []\n",
    "    \n",
    "    while True:\n",
    "        np.random.shuffle(all_batches_index)\n",
    "        for index in all_batches_index:\n",
    "            c_img, c_mask = do_augmentation(seq, seq_train, features[index], labels[index])\n",
    "\n",
    "            out_images += [c_img]\n",
    "            out_masks += [c_mask]\n",
    "            if len(out_images) >= batch_size:\n",
    "                yield np.stack(out_images, 0), np.stack(out_masks, 0)\n",
    "                out_images, out_masks = [], []"
   ]
  }
 ],
 "metadata": {
  "kernelspec": {
   "display_name": "Python 3",
   "language": "python",
   "name": "python3"
  },
  "language_info": {
   "codemirror_mode": {
    "name": "ipython",
    "version": 3
   },
   "file_extension": ".py",
   "mimetype": "text/x-python",
   "name": "python",
   "nbconvert_exporter": "python",
   "pygments_lexer": "ipython3",
   "version": "3.6.8"
  }
 },
 "nbformat": 4,
 "nbformat_minor": 2
}
